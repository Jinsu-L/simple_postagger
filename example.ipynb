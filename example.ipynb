{
 "cells": [
  {
   "cell_type": "code",
   "execution_count": 1,
   "metadata": {},
   "outputs": [],
   "source": [
    "import json\n",
    "import pandas as pd\n",
    "import math\n",
    "\n",
    "from simple_postagger.analyzer import load_model, analyze\n"
   ]
  },
  {
   "cell_type": "code",
   "execution_count": 2,
   "metadata": {},
   "outputs": [],
   "source": [
    "model_path = \"data/NIKL_MP(v1.1)/hmm_model.pkl\"\n",
    "model = load_model(model_path)"
   ]
  },
  {
   "cell_type": "code",
   "execution_count": 3,
   "metadata": {},
   "outputs": [],
   "source": [
    "init_probs, trans_probs, emit_probs, tag_set = model"
   ]
  },
  {
   "cell_type": "code",
   "execution_count": 4,
   "metadata": {},
   "outputs": [
    {
     "data": {
      "text/plain": [
       "[('아버지', 'NNG'),\n",
       " ('가', 'JKS'),\n",
       " ('방', 'NNG'),\n",
       " ('에', 'JKB'),\n",
       " ('들어가', 'VV'),\n",
       " ('신', 'NA'),\n",
       " ('다', 'MAG')]"
      ]
     },
     "execution_count": 4,
     "metadata": {},
     "output_type": "execute_result"
    }
   ],
   "source": [
    "analyze(\"아버지가 방에 들어가신다\", model, method=\"beam\")"
   ]
  },
  {
   "cell_type": "code",
   "execution_count": 5,
   "metadata": {},
   "outputs": [
    {
     "data": {
      "text/plain": [
       "[('아버지', 'NNG'),\n",
       " ('가', 'JKS'),\n",
       " ('방', 'NNG'),\n",
       " ('에', 'JKB'),\n",
       " ('들어가', 'VV'),\n",
       " ('신', 'NA'),\n",
       " ('다', 'MAG')]"
      ]
     },
     "execution_count": 5,
     "metadata": {},
     "output_type": "execute_result"
    }
   ],
   "source": [
    "analyze(\"아버지가 방에 들어가신다\", model, method=\"viterbi\")"
   ]
  },
  {
   "cell_type": "code",
   "execution_count": 6,
   "metadata": {},
   "outputs": [
    {
     "data": {
      "text/plain": [
       "[('나', 'NP'), ('이', 'JKS'), ('키', 'NNG'), ('운동화', 'NNG')]"
      ]
     },
     "execution_count": 6,
     "metadata": {},
     "output_type": "execute_result"
    }
   ],
   "source": [
    "analyze(\"나이키 운동화\", model, method=\"beam\")"
   ]
  },
  {
   "cell_type": "code",
   "execution_count": 7,
   "metadata": {},
   "outputs": [
    {
     "data": {
      "text/plain": [
       "[('나이키', 'NNP'), ('운동화', 'NNG')]"
      ]
     },
     "execution_count": 7,
     "metadata": {},
     "output_type": "execute_result"
    }
   ],
   "source": [
    "analyze(\"나이키 운동화\", model, method=\"viterbi\")"
   ]
  },
  {
   "cell_type": "code",
   "execution_count": 8,
   "metadata": {},
   "outputs": [
    {
     "name": "stdout",
     "output_type": "stream",
     "text": [
      "[lattice 후보]\n",
      "0: ['나', '나는']\n",
      "1: ['는']\n",
      "2: ['오', '오늘']\n",
      "3: ['늘']\n",
      "4: ['저', '저녁']\n",
      "5: ['<UNK>']\n",
      "6: ['에']\n",
      "7: ['치', '치킨']\n",
      "8: ['킨']\n",
      "9: ['을']\n",
      "10: ['먹', '먹었']\n",
      "11: ['었']\n",
      "12: ['다']\n",
      "13: []\n",
      "[Beam Search 최적 경로]\n",
      "morphs: ['나', '는', '오늘', '저녁', '에', '치킨', '을', '먹', '었', '다']\n",
      "tags: ['NP', 'JX', 'MAG', 'NNG', 'JKB', 'NNG', 'JKO', 'VV', 'EP', 'EF']\n",
      "log_score (normalized): -19.993895280557517\n"
     ]
    },
    {
     "data": {
      "text/plain": [
       "[('나', 'NP'),\n",
       " ('는', 'JX'),\n",
       " ('오늘', 'MAG'),\n",
       " ('저녁', 'NNG'),\n",
       " ('에', 'JKB'),\n",
       " ('치킨', 'NNG'),\n",
       " ('을', 'JKO'),\n",
       " ('먹', 'VV'),\n",
       " ('었', 'EP'),\n",
       " ('다', 'EF')]"
      ]
     },
     "execution_count": 8,
     "metadata": {},
     "output_type": "execute_result"
    }
   ],
   "source": [
    "analyze(\"나는 오늘 저녁에 치킨을 먹었다\", model, method=\"beam\", debug=True)"
   ]
  },
  {
   "cell_type": "code",
   "execution_count": 9,
   "metadata": {},
   "outputs": [
    {
     "name": "stdout",
     "output_type": "stream",
     "text": [
      "[lattice 후보]\n",
      "0: ['나', '나는']\n",
      "1: ['는']\n",
      "2: ['오', '오늘']\n",
      "3: ['늘']\n",
      "4: ['저', '저녁']\n",
      "5: ['<UNK>']\n",
      "6: ['에']\n",
      "7: ['치', '치킨']\n",
      "8: ['킨']\n",
      "9: ['을']\n",
      "10: ['먹', '먹었']\n",
      "11: ['었']\n",
      "12: ['다']\n",
      "[Viterbi 최적 경로]\n",
      "morphs: ['나', '는', '오늘', '저녁', '에', '치킨', '을', '먹', '었', '다']\n",
      "tags: ['NP', 'JX', 'MAG', 'NNG', 'JKB', 'NNG', 'JKO', 'VV', 'EP', 'EF']\n",
      "log_score (normalized): -20.562016972655037\n"
     ]
    },
    {
     "data": {
      "text/plain": [
       "[('나', 'NP'),\n",
       " ('는', 'JX'),\n",
       " ('오늘', 'MAG'),\n",
       " ('저녁', 'NNG'),\n",
       " ('에', 'JKB'),\n",
       " ('치킨', 'NNG'),\n",
       " ('을', 'JKO'),\n",
       " ('먹', 'VV'),\n",
       " ('었', 'EP'),\n",
       " ('다', 'EF')]"
      ]
     },
     "execution_count": 9,
     "metadata": {},
     "output_type": "execute_result"
    }
   ],
   "source": [
    "analyze(\"나는 오늘 저녁에 치킨을 먹었다\", model, method=\"viterbi\", debug=True)"
   ]
  },
  {
   "cell_type": "code",
   "execution_count": 10,
   "metadata": {},
   "outputs": [
    {
     "data": {
      "text/plain": [
       "[('오류', 'NNG'),\n",
       " ('보', 'VV'),\n",
       " ('고', 'EC'),\n",
       " ('는', 'JX'),\n",
       " ('실행', 'NNG'),\n",
       " ('환경', 'NNG'),\n",
       " ('에러', 'NNG'),\n",
       " ('메세지', 'NNG'),\n",
       " ('와', 'JKB'),\n",
       " ('함께', 'MAG'),\n",
       " ('설명', 'NNG'),\n",
       " ('을', 'JKO'),\n",
       " ('최대한', 'MAG'),\n",
       " ('상세히', 'MAG')]"
      ]
     },
     "execution_count": 10,
     "metadata": {},
     "output_type": "execute_result"
    }
   ],
   "source": [
    "analyze(\"오류 보고는 실행환경 에러메세지와 함께 설명을 최대한 상세히\", model, method=\"beam\")"
   ]
  },
  {
   "cell_type": "code",
   "execution_count": 11,
   "metadata": {},
   "outputs": [
    {
     "data": {
      "text/plain": [
       "[('오류', 'NNG'),\n",
       " ('보고', 'JKB'),\n",
       " ('는', 'JX'),\n",
       " ('실행', 'NNG'),\n",
       " ('환경', 'NNG'),\n",
       " ('에러', 'NNG'),\n",
       " ('메세지', 'NNG'),\n",
       " ('와', 'JKB'),\n",
       " ('함께', 'MAG'),\n",
       " ('설명', 'NNG'),\n",
       " ('을', 'JKO'),\n",
       " ('최대한', 'MAG'),\n",
       " ('상세히', 'MAG')]"
      ]
     },
     "execution_count": 11,
     "metadata": {},
     "output_type": "execute_result"
    }
   ],
   "source": [
    "analyze(\"오류 보고는 실행환경 에러메세지와 함께 설명을 최대한 상세히\", model, method=\"viterbi\")"
   ]
  },
  {
   "cell_type": "code",
   "execution_count": 12,
   "metadata": {},
   "outputs": [
    {
     "data": {
      "text/plain": [
       "[('아무리', 'MAG'),\n",
       " ('채소', 'NNG'),\n",
       " ('로', 'JKB'),\n",
       " ('만', 'JX'),\n",
       " ('든', 'JX'),\n",
       " ('음식', 'NNG'),\n",
       " ('이라도', 'JX'),\n",
       " ('조리', 'NNG'),\n",
       " ('방법', 'NNG'),\n",
       " ('에', 'JKB'),\n",
       " ('따라', 'JX'),\n",
       " ('몸', 'NNG'),\n",
       " ('에', 'JKB'),\n",
       " ('해', 'NNG'),\n",
       " ('로', 'JKB'),\n",
       " ('울', 'NP'),\n",
       " ('수', 'NNB'),\n",
       " ('있', 'VA'),\n",
       " ('다', 'EF'),\n",
       " ('.', 'SF')]"
      ]
     },
     "execution_count": 12,
     "metadata": {},
     "output_type": "execute_result"
    }
   ],
   "source": [
    "analyze(\"아무리 채소로 만든 음식이라도 조리 방법에 따라 몸에 해로울 수 있다.\", model, method=\"beam\")"
   ]
  },
  {
   "cell_type": "code",
   "execution_count": 13,
   "metadata": {},
   "outputs": [
    {
     "data": {
      "text/plain": [
       "[('아무리', 'MAG'),\n",
       " ('채소', 'NNG'),\n",
       " ('로', 'JKB'),\n",
       " ('만', 'JX'),\n",
       " ('든', 'JX'),\n",
       " ('음식', 'NNG'),\n",
       " ('이라도', 'JX'),\n",
       " ('조리', 'NNG'),\n",
       " ('방법', 'NNG'),\n",
       " ('에', 'JKB'),\n",
       " ('따라', 'JX'),\n",
       " ('몸', 'NNG'),\n",
       " ('에', 'JKB'),\n",
       " ('해', 'NNG'),\n",
       " ('로', 'JKB'),\n",
       " ('울', 'NP'),\n",
       " ('수', 'NNB'),\n",
       " ('있', 'VA'),\n",
       " ('다', 'EF'),\n",
       " ('.', 'SF')]"
      ]
     },
     "execution_count": 13,
     "metadata": {},
     "output_type": "execute_result"
    }
   ],
   "source": [
    "analyze(\"아무리 채소로 만든 음식이라도 조리 방법에 따라 몸에 해로울 수 있다.\", model, method=\"viterbi\")"
   ]
  },
  {
   "cell_type": "code",
   "execution_count": 14,
   "metadata": {},
   "outputs": [],
   "source": [
    "long_text = \"가공 과정에서 영양소가 파괴되고, 과잉 섭취 위험이 크다는 것도 문제다. 채소 속 영양을 섭취할 목적으로 채소 칩을 먹으면 기대하는 효과를 보기 어려울 가능성이 크다. 높은 온도에서 튀기면 채소에 풍부했던 비타민, 식이섬유, 철분, 칼륨 등의 성분이 파괴된다. 안토시아닌 같은 항산화 성분이 풍부한 비트로 만든 ‘비트 칩’에서 항산화 효과를, 비타민A가 많은 당근으로 만든 ‘당근 칩’에서 눈 건강 개선 효과를 기대할 수 없다는 것이다. 또한, 식이섬유가 풍부해 적은 양으로도 큰 포만감을 느낄 수 있는 생 채소와 달리 채소 칩은 포만감이 쉽게 느껴지지 않아 과잉 섭취해 체중 증가로 이어질 위험이 있다.\""
   ]
  },
  {
   "cell_type": "code",
   "execution_count": 15,
   "metadata": {},
   "outputs": [
    {
     "data": {
      "text/plain": [
       "[('가공', 'NNG'),\n",
       " ('과정', 'NNG'),\n",
       " ('에서', 'JKB'),\n",
       " ('영양소', 'NNG'),\n",
       " ('가', 'JKS'),\n",
       " ('파괴', 'NNG'),\n",
       " ('되', 'XSV'),\n",
       " ('고', 'EC'),\n",
       " (',', 'SP'),\n",
       " ('과잉', 'NNG'),\n",
       " ('섭취', 'NNG'),\n",
       " ('위험', 'NNG'),\n",
       " ('이', 'JKS'),\n",
       " ('크', 'VA'),\n",
       " ('다는', 'ETM'),\n",
       " ('것', 'NNB'),\n",
       " ('도', 'JX'),\n",
       " ('문제', 'NNG'),\n",
       " ('다', 'JX'),\n",
       " ('.', 'SF'),\n",
       " ('채소', 'NNG'),\n",
       " ('속', 'NNG'),\n",
       " ('영양', 'NNG'),\n",
       " ('을', 'JKO'),\n",
       " ('섭취', 'NNG'),\n",
       " ('할', 'NA'),\n",
       " ('목적', 'NNG'),\n",
       " ('으로', 'JKB'),\n",
       " ('채소', 'NNG'),\n",
       " ('칩', 'NNG'),\n",
       " ('을', 'JKO'),\n",
       " ('먹', 'VV'),\n",
       " ('으면', 'EC'),\n",
       " ('기대', 'NNG'),\n",
       " ('하', 'XSV'),\n",
       " ('는', 'ETM'),\n",
       " ('효과', 'NNG'),\n",
       " ('를', 'JKO'),\n",
       " ('보', 'VV'),\n",
       " ('기', 'ETN'),\n",
       " ('어려', 'NA'),\n",
       " ('울', 'NA'),\n",
       " ('가능', 'NNG'),\n",
       " ('성', 'XSN'),\n",
       " ('이', 'JKS'),\n",
       " ('크', 'VA'),\n",
       " ('다', 'EF'),\n",
       " ('.', 'SF'),\n",
       " ('높', 'VA'),\n",
       " ('은', 'ETM'),\n",
       " ('온도', 'NNG'),\n",
       " ('에서', 'JKB'),\n",
       " ('튀기', 'VV'),\n",
       " ('면', 'EC'),\n",
       " ('채소', 'NNG'),\n",
       " ('에', 'JKB'),\n",
       " ('풍', 'NNG'),\n",
       " ('부', 'XSN'),\n",
       " ('했', 'NA'),\n",
       " ('던', 'ETM'),\n",
       " ('비타민', 'NNG'),\n",
       " (',', 'SP'),\n",
       " ('식이', 'NNG'),\n",
       " ('섬유', 'NNG'),\n",
       " (',', 'SP'),\n",
       " ('철', 'NNG'),\n",
       " ('분', 'NNB'),\n",
       " (',', 'SP'),\n",
       " ('칼', 'NNG'),\n",
       " ('<UNK>', 'NNG'),\n",
       " ('이', 'JKS'),\n",
       " ('파괴', 'NNG'),\n",
       " ('된', 'NA'),\n",
       " ('다', 'EF'),\n",
       " ('.', 'SF'),\n",
       " ('안토시아닌', 'NNG'),\n",
       " ('같', 'VA'),\n",
       " ('은', 'ETM'),\n",
       " ('항산화', 'NNG'),\n",
       " ('성분', 'NNG'),\n",
       " ('이', 'JKS'),\n",
       " ('풍', 'NNG'),\n",
       " ('부', 'XSN'),\n",
       " ('한', 'MMN'),\n",
       " ('비트', 'NNG'),\n",
       " ('로', 'JKB'),\n",
       " ('만', 'JX'),\n",
       " ('든', 'JX'),\n",
       " ('비트', 'NNG'),\n",
       " ('칩', 'NNG'),\n",
       " ('에서', 'JKB'),\n",
       " ('항산화', 'NNG'),\n",
       " ('효과', 'NNG'),\n",
       " ('를', 'JKO'),\n",
       " (',', 'SP'),\n",
       " ('비타민', 'NNG'),\n",
       " ('<UNK>', 'JKO'),\n",
       " ('근', 'NA'),\n",
       " ('으로', 'JKB'),\n",
       " ('만', 'JX'),\n",
       " ('든', 'JX'),\n",
       " ('당근', 'NNG'),\n",
       " ('칩', 'NNG'),\n",
       " ('에서', 'JKB'),\n",
       " ('눈', 'NNG'),\n",
       " ('건강', 'NNG'),\n",
       " ('개선', 'NNG'),\n",
       " ('효과', 'NNG'),\n",
       " ('를', 'JKO'),\n",
       " ('기대', 'NNG'),\n",
       " ('할', 'NA'),\n",
       " ('수', 'NNB'),\n",
       " ('없', 'VA'),\n",
       " ('다는', 'ETM'),\n",
       " ('것', 'NNB'),\n",
       " ('이', 'VCP'),\n",
       " ('다', 'EF'),\n",
       " ('.', 'SF'),\n",
       " ('또한', 'MAG'),\n",
       " (',', 'SP'),\n",
       " ('식이', 'NNG'),\n",
       " ('섬유', 'NNG'),\n",
       " ('가', 'JKS'),\n",
       " ('풍', 'NNG'),\n",
       " ('부', 'XSN'),\n",
       " ('해', 'NNG'),\n",
       " ('적', 'XSN'),\n",
       " ('은', 'JX'),\n",
       " ('양', 'NNG'),\n",
       " ('으로', 'JKB'),\n",
       " ('도', 'JX'),\n",
       " ('큰', 'NA'),\n",
       " ('포만감', 'NNG'),\n",
       " ('을', 'JKO'),\n",
       " ('느', 'VV'),\n",
       " ('<UNK>', 'ETM'),\n",
       " ('채소', 'NNG'),\n",
       " ('와', 'JKB'),\n",
       " ('달리', 'MAG'),\n",
       " ('채소', 'NNG'),\n",
       " ('칩', 'NNG'),\n",
       " ('은', 'JX'),\n",
       " ('포만감', 'NNG'),\n",
       " ('이', 'JKS'),\n",
       " ('쉽', 'VA'),\n",
       " ('게', 'EC'),\n",
       " ('느', 'VV'),\n",
       " ('<UNK>', 'ETM'),\n",
       " ('과잉', 'NNG'),\n",
       " ('섭취', 'NNG'),\n",
       " ('해', 'XSV'),\n",
       " ('체중', 'NNG'),\n",
       " ('증가', 'NNG'),\n",
       " ('로', 'JKB'),\n",
       " ('이', 'MMD'),\n",
       " ('어', 'IC'),\n",
       " ('질', 'NNG'),\n",
       " ('위험', 'NNG'),\n",
       " ('이', 'JKS'),\n",
       " ('있', 'VA'),\n",
       " ('다', 'EF'),\n",
       " ('.', 'SF')]"
      ]
     },
     "execution_count": 15,
     "metadata": {},
     "output_type": "execute_result"
    }
   ],
   "source": [
    "analyze(long_text, model, method=\"beam\")"
   ]
  },
  {
   "cell_type": "code",
   "execution_count": 16,
   "metadata": {},
   "outputs": [
    {
     "data": {
      "text/plain": [
       "[('가공', 'NNG'),\n",
       " ('과정', 'NNG'),\n",
       " ('에서', 'JKB'),\n",
       " ('영양소', 'NNG'),\n",
       " ('가', 'JKS'),\n",
       " ('파괴', 'NNG'),\n",
       " ('되', 'XSV'),\n",
       " ('고', 'EC'),\n",
       " (',', 'SP'),\n",
       " ('과잉', 'NNG'),\n",
       " ('섭취', 'NNG'),\n",
       " ('위험', 'NNG'),\n",
       " ('이', 'JKS'),\n",
       " ('크', 'VA'),\n",
       " ('다는', 'ETM'),\n",
       " ('것', 'NNB'),\n",
       " ('도', 'JX'),\n",
       " ('문제', 'NNG'),\n",
       " ('다', 'JX'),\n",
       " ('.', 'SF'),\n",
       " ('채소', 'NNG'),\n",
       " ('속', 'NNG'),\n",
       " ('영양', 'NNG'),\n",
       " ('을', 'JKO'),\n",
       " ('섭취', 'NNG'),\n",
       " ('할', 'NA'),\n",
       " ('목적', 'NNG'),\n",
       " ('으로', 'JKB'),\n",
       " ('채소', 'NNG'),\n",
       " ('칩', 'NNG'),\n",
       " ('을', 'JKO'),\n",
       " ('먹', 'VV'),\n",
       " ('으면', 'EC'),\n",
       " ('기대', 'NNG'),\n",
       " ('하', 'XSV'),\n",
       " ('는', 'ETM'),\n",
       " ('효과', 'NNG'),\n",
       " ('를', 'JKO'),\n",
       " ('보', 'VV'),\n",
       " ('기', 'ETN'),\n",
       " ('어려', 'NA'),\n",
       " ('울', 'NA'),\n",
       " ('가능', 'NNG'),\n",
       " ('성', 'XSN'),\n",
       " ('이', 'JKS'),\n",
       " ('크', 'VA'),\n",
       " ('다', 'EF'),\n",
       " ('.', 'SF'),\n",
       " ('높', 'VA'),\n",
       " ('은', 'ETM'),\n",
       " ('온도', 'NNG'),\n",
       " ('에서', 'JKB'),\n",
       " ('튀기', 'VV'),\n",
       " ('면', 'EC'),\n",
       " ('채소', 'NNG'),\n",
       " ('에', 'JKB'),\n",
       " ('풍', 'NNG'),\n",
       " ('부', 'NA'),\n",
       " ('했', 'NA'),\n",
       " ('던', 'ETM'),\n",
       " ('비타민', 'NNG'),\n",
       " (',', 'SP'),\n",
       " ('식이', 'NNG'),\n",
       " ('섬유', 'NNG'),\n",
       " (',', 'SP'),\n",
       " ('철', 'NNG'),\n",
       " ('분', 'NNB'),\n",
       " (',', 'SP'),\n",
       " ('칼', 'NNG'),\n",
       " ('<UNK>', 'XSN'),\n",
       " ('이', 'JKS'),\n",
       " ('파괴', 'NNG'),\n",
       " ('된', 'NA'),\n",
       " ('다', 'EF'),\n",
       " ('.', 'SF'),\n",
       " ('안토시아닌', 'NNG'),\n",
       " ('같', 'VA'),\n",
       " ('은', 'ETM'),\n",
       " ('항산화', 'NNG'),\n",
       " ('성분', 'NNG'),\n",
       " ('이', 'JKS'),\n",
       " ('풍', 'NNG'),\n",
       " ('부', 'XSN'),\n",
       " ('한', 'MMN'),\n",
       " ('비트', 'NNG'),\n",
       " ('로', 'JKB'),\n",
       " ('만', 'JX'),\n",
       " ('든', 'JX'),\n",
       " ('비트', 'NNG'),\n",
       " ('칩', 'NNG'),\n",
       " ('에서', 'JKB'),\n",
       " ('항산화', 'NNG'),\n",
       " ('효과', 'NNG'),\n",
       " ('를', 'JKO'),\n",
       " (',', 'SP'),\n",
       " ('비타민', 'NNG'),\n",
       " ('<UNK>', 'NR'),\n",
       " ('근', 'NNB'),\n",
       " ('으로', 'JKB'),\n",
       " ('만', 'JX'),\n",
       " ('든', 'JX'),\n",
       " ('당근', 'NNG'),\n",
       " ('칩', 'NNG'),\n",
       " ('에서', 'JKB'),\n",
       " ('눈', 'NNG'),\n",
       " ('건강', 'NNG'),\n",
       " ('개선', 'NNG'),\n",
       " ('효과', 'NNG'),\n",
       " ('를', 'JKO'),\n",
       " ('기대', 'NNG'),\n",
       " ('할', 'NA'),\n",
       " ('수', 'NNB'),\n",
       " ('없', 'VA'),\n",
       " ('다는', 'ETM'),\n",
       " ('것', 'NNB'),\n",
       " ('이', 'VCP'),\n",
       " ('다', 'EF'),\n",
       " ('.', 'SF'),\n",
       " ('또한', 'MAG'),\n",
       " (',', 'SP'),\n",
       " ('식이', 'NNG'),\n",
       " ('섬유', 'NNG'),\n",
       " ('가', 'JKS'),\n",
       " ('풍', 'NNG'),\n",
       " ('부', 'XSN'),\n",
       " ('해', 'NNG'),\n",
       " ('적', 'XSN'),\n",
       " ('은', 'JX'),\n",
       " ('양', 'NNG'),\n",
       " ('으로', 'JKB'),\n",
       " ('도', 'JX'),\n",
       " ('큰', 'NA'),\n",
       " ('포만감', 'NNG'),\n",
       " ('을', 'JKO'),\n",
       " ('느', 'VV'),\n",
       " ('<UNK>', 'ETM'),\n",
       " ('채소', 'NNG'),\n",
       " ('와', 'JKB'),\n",
       " ('달리', 'MAG'),\n",
       " ('채소', 'NNG'),\n",
       " ('칩', 'NNG'),\n",
       " ('은', 'JX'),\n",
       " ('포만감', 'NNG'),\n",
       " ('이', 'JKS'),\n",
       " ('쉽', 'VA'),\n",
       " ('게', 'EC'),\n",
       " ('느', 'VV'),\n",
       " ('<UNK>', 'ETM'),\n",
       " ('과잉', 'NNG'),\n",
       " ('섭취', 'NNG'),\n",
       " ('해', 'NNG'),\n",
       " ('체중', 'NNG'),\n",
       " ('증가', 'NNG'),\n",
       " ('로', 'JKB'),\n",
       " ('이', 'IC'),\n",
       " ('어', 'IC'),\n",
       " ('질', 'NNG'),\n",
       " ('위험', 'NNG'),\n",
       " ('이', 'JKS'),\n",
       " ('있', 'VA'),\n",
       " ('다', 'EF'),\n",
       " ('.', 'SF')]"
      ]
     },
     "execution_count": 16,
     "metadata": {},
     "output_type": "execute_result"
    }
   ],
   "source": [
    "analyze(long_text, model, method=\"viterbi\")"
   ]
  },
  {
   "cell_type": "code",
   "execution_count": null,
   "metadata": {},
   "outputs": [],
   "source": []
  }
 ],
 "metadata": {
  "kernelspec": {
   "display_name": "Python 3",
   "language": "python",
   "name": "python3"
  },
  "language_info": {
   "codemirror_mode": {
    "name": "ipython",
    "version": 3
   },
   "file_extension": ".py",
   "mimetype": "text/x-python",
   "name": "python",
   "nbconvert_exporter": "python",
   "pygments_lexer": "ipython3",
   "version": "3.11.13"
  }
 },
 "nbformat": 4,
 "nbformat_minor": 2
}
