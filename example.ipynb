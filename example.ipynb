{
 "cells": [
  {
   "cell_type": "code",
   "execution_count": 1,
   "metadata": {},
   "outputs": [],
   "source": [
    "import json\n",
    "import pandas as pd\n",
    "import math\n",
    "\n",
    "from simple_postagger.analyzer import load_model, analyze\n"
   ]
  },
  {
   "cell_type": "code",
   "execution_count": 2,
   "metadata": {},
   "outputs": [],
   "source": [
    "model_path = \"data/NIKL_MP(v1.1)/hmm_model.pkl\"\n",
    "model = load_model(model_path)"
   ]
  },
  {
   "cell_type": "code",
   "execution_count": 3,
   "metadata": {},
   "outputs": [],
   "source": [
    "init_probs, trans_probs, emit_probs, tag_set = model"
   ]
  },
  {
   "cell_type": "code",
   "execution_count": 4,
   "metadata": {},
   "outputs": [
    {
     "name": "stdout",
     "output_type": "stream",
     "text": [
      "[lattice 후보]\n",
      "0: ['아', '아버', '아버지']\n",
      "1: ['버']\n",
      "2: ['지', '지가']\n",
      "3: ['가', '가방']\n",
      "4: ['방']\n",
      "5: ['에']\n",
      "6: ['들', '들어', '들어가']\n",
      "7: ['어', '어가']\n",
      "8: ['가']\n",
      "9: ['신']\n",
      "10: ['다']\n",
      "[Beam Search 최적 경로]\n",
      "morphs: ['아버지', '가방', '에', '들어가', '신', '다']\n",
      "tags: ['IC', 'NNG', 'NNG', 'JKB', 'VV', 'NA', 'MAG']\n",
      "log_score (normalized): -16.81376288443707\n"
     ]
    },
    {
     "data": {
      "text/plain": [
       "[('아버지', 'IC'),\n",
       " ('가방', 'NNG'),\n",
       " ('에', 'NNG'),\n",
       " ('들어가', 'JKB'),\n",
       " ('신', 'VV'),\n",
       " ('다', 'NA')]"
      ]
     },
     "execution_count": 4,
     "metadata": {},
     "output_type": "execute_result"
    }
   ],
   "source": [
    "analyze(\"아버지가 방에 들어가신다\", model, method=\"beam\", debug=True)"
   ]
  },
  {
   "cell_type": "code",
   "execution_count": 5,
   "metadata": {},
   "outputs": [
    {
     "name": "stdout",
     "output_type": "stream",
     "text": [
      "[lattice 후보]\n",
      "0: ['아', '아버', '아버지']\n",
      "1: ['버']\n",
      "2: ['지', '지가']\n",
      "3: ['가', '가방']\n",
      "4: ['방']\n",
      "5: ['에']\n",
      "6: ['들', '들어', '들어가']\n",
      "7: ['어', '어가']\n",
      "8: ['가']\n",
      "9: ['신']\n",
      "10: ['다']\n",
      "[Viterbi 최적 경로]\n",
      "morphs: ['아버지', '가방', '에', '들어가', '신', '다']\n",
      "tags: ['NNG', 'NNG', 'JKB', 'VV', 'NA', 'MAG']\n",
      "log_score (normalized): -17.284408966895807\n"
     ]
    },
    {
     "data": {
      "text/plain": [
       "[('아버지', 'NNG'),\n",
       " ('가방', 'NNG'),\n",
       " ('에', 'JKB'),\n",
       " ('들어가', 'VV'),\n",
       " ('신', 'NA'),\n",
       " ('다', 'MAG')]"
      ]
     },
     "execution_count": 5,
     "metadata": {},
     "output_type": "execute_result"
    }
   ],
   "source": [
    "analyze(\"아버지가 방에 들어가신다\", model, method=\"viterbi\", debug=True)"
   ]
  },
  {
   "cell_type": "code",
   "execution_count": 6,
   "metadata": {},
   "outputs": [
    {
     "data": {
      "text/plain": [
       "[('나이키', 'IC'), ('운동화', 'NNP')]"
      ]
     },
     "execution_count": 6,
     "metadata": {},
     "output_type": "execute_result"
    }
   ],
   "source": [
    "analyze(\"나이키 운동화\", model, method=\"beam\")"
   ]
  },
  {
   "cell_type": "code",
   "execution_count": 7,
   "metadata": {},
   "outputs": [
    {
     "data": {
      "text/plain": [
       "[('나이키', 'NNP'), ('운동화', 'NNG')]"
      ]
     },
     "execution_count": 7,
     "metadata": {},
     "output_type": "execute_result"
    }
   ],
   "source": [
    "analyze(\"나이키 운동화\", model, method=\"viterbi\")"
   ]
  },
  {
   "cell_type": "code",
   "execution_count": 8,
   "metadata": {},
   "outputs": [
    {
     "name": "stdout",
     "output_type": "stream",
     "text": [
      "[lattice 후보]\n",
      "0: ['나', '나는']\n",
      "1: ['는']\n",
      "2: ['오', '오늘']\n",
      "3: ['늘']\n",
      "4: ['저', '저녁']\n",
      "5: ['<UNK>']\n",
      "6: ['에']\n",
      "7: ['치', '치킨']\n",
      "8: ['킨']\n",
      "9: ['을']\n",
      "10: ['먹', '먹었']\n",
      "11: ['었']\n",
      "12: ['다']\n",
      "[Beam Search 최적 경로]\n",
      "morphs: ['나', '는', '오늘', '저', '<UNK>', '먹', '었', '다']\n",
      "tags: ['IC', 'NP', 'JX', 'MAG', 'NP', 'NNG', 'VV', 'EP', 'EF']\n",
      "log_score (normalized): -11.226213442196036\n"
     ]
    },
    {
     "data": {
      "text/plain": [
       "[('나', 'IC'),\n",
       " ('는', 'NP'),\n",
       " ('오늘', 'JX'),\n",
       " ('저', 'MAG'),\n",
       " ('<UNK>', 'NP'),\n",
       " ('먹', 'NNG'),\n",
       " ('었', 'VV'),\n",
       " ('다', 'EP')]"
      ]
     },
     "execution_count": 8,
     "metadata": {},
     "output_type": "execute_result"
    }
   ],
   "source": [
    "analyze(\"나는 오늘 저녁에 치킨을 먹었다\", model, method=\"beam\", debug=True)"
   ]
  },
  {
   "cell_type": "code",
   "execution_count": 9,
   "metadata": {},
   "outputs": [
    {
     "name": "stdout",
     "output_type": "stream",
     "text": [
      "[lattice 후보]\n",
      "0: ['나', '나는']\n",
      "1: ['는']\n",
      "2: ['오', '오늘']\n",
      "3: ['늘']\n",
      "4: ['저', '저녁']\n",
      "5: ['<UNK>']\n",
      "6: ['에']\n",
      "7: ['치', '치킨']\n",
      "8: ['킨']\n",
      "9: ['을']\n",
      "10: ['먹', '먹었']\n",
      "11: ['었']\n",
      "12: ['다']\n",
      "[Viterbi 최적 경로]\n",
      "morphs: ['나', '는', '오늘', '저', '<UNK>', '먹', '었', '다']\n",
      "tags: ['NP', 'JX', 'MAG', 'NP', 'NNG', 'VV', 'EP', 'EF']\n",
      "log_score (normalized): -11.98365084993964\n"
     ]
    },
    {
     "data": {
      "text/plain": [
       "[('나', 'NP'),\n",
       " ('는', 'JX'),\n",
       " ('오늘', 'MAG'),\n",
       " ('저', 'NP'),\n",
       " ('<UNK>', 'NNG'),\n",
       " ('먹', 'VV'),\n",
       " ('었', 'EP'),\n",
       " ('다', 'EF')]"
      ]
     },
     "execution_count": 9,
     "metadata": {},
     "output_type": "execute_result"
    }
   ],
   "source": [
    "analyze(\"나는 오늘 저녁에 치킨을 먹었다\", model, method=\"viterbi\", debug=True)"
   ]
  },
  {
   "cell_type": "code",
   "execution_count": 10,
   "metadata": {},
   "outputs": [
    {
     "data": {
      "text/plain": [
       "[('오류', 'IC'),\n",
       " ('보', 'NNG'),\n",
       " ('고', 'VV'),\n",
       " ('는', 'EC'),\n",
       " ('실행', 'JX'),\n",
       " ('환경', 'NNG'),\n",
       " ('에러', 'NNG'),\n",
       " ('메세지', 'NNG'),\n",
       " ('와', 'NNG'),\n",
       " ('함께', 'JC'),\n",
       " ('설명', 'MAG'),\n",
       " ('을', 'NNG'),\n",
       " ('최대한', 'JKO'),\n",
       " ('상세히', 'MAG')]"
      ]
     },
     "execution_count": 10,
     "metadata": {},
     "output_type": "execute_result"
    }
   ],
   "source": [
    "analyze(\"오류 보고는 실행환경 에러메세지와 함께 설명을 최대한 상세히\", model, method=\"beam\")"
   ]
  },
  {
   "cell_type": "code",
   "execution_count": 11,
   "metadata": {},
   "outputs": [
    {
     "data": {
      "text/plain": [
       "[('오류', 'NNG'),\n",
       " ('보고', 'JKB'),\n",
       " ('는', 'JX'),\n",
       " ('실행', 'NNG'),\n",
       " ('환경', 'NNG'),\n",
       " ('에러', 'NNG'),\n",
       " ('메세지', 'NNG'),\n",
       " ('와', 'JKB'),\n",
       " ('함께', 'MAG'),\n",
       " ('설명', 'NNG'),\n",
       " ('을', 'JKO'),\n",
       " ('최대한', 'MAG'),\n",
       " ('상세히', 'MAG')]"
      ]
     },
     "execution_count": 11,
     "metadata": {},
     "output_type": "execute_result"
    }
   ],
   "source": [
    "analyze(\"오류 보고는 실행환경 에러메세지와 함께 설명을 최대한 상세히\", model, method=\"viterbi\")"
   ]
  },
  {
   "cell_type": "code",
   "execution_count": 12,
   "metadata": {},
   "outputs": [
    {
     "data": {
      "text/plain": [
       "[('아무리', 'IC'),\n",
       " ('채소', 'MAG'),\n",
       " ('로', 'NNG'),\n",
       " ('만', 'JKB'),\n",
       " ('든', 'JX'),\n",
       " ('음식', 'JX'),\n",
       " ('이라도', 'NNG'),\n",
       " ('조리', 'JX'),\n",
       " ('방법', 'NNG'),\n",
       " ('에', 'NNG'),\n",
       " ('따라', 'JKB'),\n",
       " ('몸', 'JX'),\n",
       " ('에', 'NNG'),\n",
       " ('해', 'JKB'),\n",
       " ('로', 'NNG'),\n",
       " ('울', 'JKB'),\n",
       " ('수', 'NP'),\n",
       " ('있', 'NNB'),\n",
       " ('다', 'VA'),\n",
       " ('.', 'EF')]"
      ]
     },
     "execution_count": 12,
     "metadata": {},
     "output_type": "execute_result"
    }
   ],
   "source": [
    "analyze(\"아무리 채소로 만든 음식이라도 조리 방법에 따라 몸에 해로울 수 있다.\", model, method=\"beam\")"
   ]
  },
  {
   "cell_type": "code",
   "execution_count": 13,
   "metadata": {},
   "outputs": [
    {
     "data": {
      "text/plain": [
       "[('아무리', 'MAG'),\n",
       " ('채소', 'NNG'),\n",
       " ('로', 'JKB'),\n",
       " ('만', 'JX'),\n",
       " ('든', 'JX'),\n",
       " ('음식', 'NNG'),\n",
       " ('이라도', 'JX'),\n",
       " ('조리', 'NNG'),\n",
       " ('방법', 'NNG'),\n",
       " ('에', 'JKB'),\n",
       " ('따라', 'JX'),\n",
       " ('몸', 'NNG'),\n",
       " ('에', 'JKB'),\n",
       " ('해', 'NNG'),\n",
       " ('로', 'JKB'),\n",
       " ('울', 'NP'),\n",
       " ('수', 'NNB'),\n",
       " ('있', 'VA'),\n",
       " ('다', 'EF'),\n",
       " ('.', 'SF')]"
      ]
     },
     "execution_count": 13,
     "metadata": {},
     "output_type": "execute_result"
    }
   ],
   "source": [
    "analyze(\"아무리 채소로 만든 음식이라도 조리 방법에 따라 몸에 해로울 수 있다.\", model, method=\"viterbi\")"
   ]
  },
  {
   "cell_type": "code",
   "execution_count": 14,
   "metadata": {},
   "outputs": [],
   "source": [
    "long_text = \"가공 과정에서 영양소가 파괴되고, 과잉 섭취 위험이 크다는 것도 문제다. 채소 속 영양을 섭취할 목적으로 채소 칩을 먹으면 기대하는 효과를 보기 어려울 가능성이 크다. 높은 온도에서 튀기면 채소에 풍부했던 비타민, 식이섬유, 철분, 칼륨 등의 성분이 파괴된다. 안토시아닌 같은 항산화 성분이 풍부한 비트로 만든 ‘비트 칩’에서 항산화 효과를, 비타민A가 많은 당근으로 만든 ‘당근 칩’에서 눈 건강 개선 효과를 기대할 수 없다는 것이다. 또한, 식이섬유가 풍부해 적은 양으로도 큰 포만감을 느낄 수 있는 생 채소와 달리 채소 칩은 포만감이 쉽게 느껴지지 않아 과잉 섭취해 체중 증가로 이어질 위험이 있다.\""
   ]
  },
  {
   "cell_type": "code",
   "execution_count": 15,
   "metadata": {},
   "outputs": [
    {
     "data": {
      "text/plain": [
       "[('가공', 'IC'),\n",
       " ('과정', 'NNG'),\n",
       " ('에서', 'NNG'),\n",
       " ('영양소', 'JKB'),\n",
       " ('가', 'NNG'),\n",
       " ('파괴', 'JKS'),\n",
       " ('되', 'NNG'),\n",
       " ('고', 'XSV'),\n",
       " (',', 'EC'),\n",
       " ('과잉', 'SP'),\n",
       " ('섭취', 'NNG'),\n",
       " ('위', 'NNG'),\n",
       " ('<UNK>', 'NNG'),\n",
       " ('것', 'NNG'),\n",
       " ('도', 'NNB'),\n",
       " ('문제', 'JX'),\n",
       " ('다', 'NNG'),\n",
       " ('.', 'JX'),\n",
       " ('채소', 'SF'),\n",
       " ('속', 'NNG'),\n",
       " ('영양', 'NNG'),\n",
       " ('을', 'NNG'),\n",
       " ('섭취', 'JKO'),\n",
       " ('할', 'NNG'),\n",
       " ('목적', 'NA'),\n",
       " ('으로', 'NNG'),\n",
       " ('채소', 'JKB'),\n",
       " ('칩', 'NNG'),\n",
       " ('을', 'NNG'),\n",
       " ('먹', 'JKO'),\n",
       " ('으면', 'VV'),\n",
       " ('기대', 'EC'),\n",
       " ('하', 'NNG'),\n",
       " ('는', 'XSV'),\n",
       " ('효과', 'ETM'),\n",
       " ('를', 'NNG'),\n",
       " ('보', 'JKO'),\n",
       " ('기', 'VV'),\n",
       " ('어려', 'ETN'),\n",
       " ('울', 'NA'),\n",
       " ('가능', 'NA'),\n",
       " ('성', 'NNG'),\n",
       " ('이', 'XSN'),\n",
       " ('크', 'JKS'),\n",
       " ('다', 'VA'),\n",
       " ('.', 'EF'),\n",
       " ('높', 'SF'),\n",
       " ('은', 'VA'),\n",
       " ('온도', 'ETM'),\n",
       " ('에서', 'NNG'),\n",
       " ('튀기', 'JKB'),\n",
       " ('면', 'VV'),\n",
       " ('채소', 'EC'),\n",
       " ('에', 'NNG'),\n",
       " ('풍', 'JKB'),\n",
       " ('부', 'NNG'),\n",
       " ('했', 'NA'),\n",
       " ('던', 'NA'),\n",
       " ('비타민', 'ETM'),\n",
       " (',', 'NNG'),\n",
       " ('식이', 'SP'),\n",
       " ('섬유', 'NNG'),\n",
       " (',', 'NNG'),\n",
       " ('철', 'SP'),\n",
       " ('분', 'NNG'),\n",
       " (',', 'NNB'),\n",
       " ('칼', 'SP'),\n",
       " ('<UNK>', 'NNG'),\n",
       " ('이', 'NNG'),\n",
       " ('파괴', 'JKS'),\n",
       " ('된', 'NNG'),\n",
       " ('다', 'NA'),\n",
       " ('.', 'MAG'),\n",
       " ('안토시아닌', 'SF'),\n",
       " ('같', 'NNG'),\n",
       " ('은', 'VA'),\n",
       " ('항산화', 'ETM'),\n",
       " ('성분', 'NNG'),\n",
       " ('이', 'NNG'),\n",
       " ('풍', 'JKS'),\n",
       " ('부', 'NNG'),\n",
       " ('한', 'XSN'),\n",
       " ('비트', 'MMN'),\n",
       " ('로', 'NNG'),\n",
       " ('만', 'JKB'),\n",
       " ('든', 'JX'),\n",
       " ('비트', 'JX'),\n",
       " ('칩', 'NNG'),\n",
       " ('에서', 'NNG'),\n",
       " ('항산화', 'JKB'),\n",
       " ('효과', 'NNG'),\n",
       " ('를', 'NNG'),\n",
       " (',', 'JKO'),\n",
       " ('비타민', 'SP'),\n",
       " ('<UNK>', 'NNG'),\n",
       " ('근', 'NNG'),\n",
       " ('으로', 'NA'),\n",
       " ('만', 'JKB'),\n",
       " ('든', 'JX'),\n",
       " ('당근', 'JX'),\n",
       " ('칩', 'NNG'),\n",
       " ('에서', 'NNG'),\n",
       " ('눈', 'JKB'),\n",
       " ('건강', 'NNG'),\n",
       " ('개선', 'NNG'),\n",
       " ('효과', 'NNG'),\n",
       " ('를', 'NNG'),\n",
       " ('기대', 'JKO'),\n",
       " ('할', 'NNG'),\n",
       " ('수', 'NA'),\n",
       " ('없', 'NNB'),\n",
       " ('다는', 'VA'),\n",
       " ('것', 'ETM'),\n",
       " ('이', 'NNB'),\n",
       " ('다', 'VCP'),\n",
       " ('.', 'EF'),\n",
       " ('또한', 'SF'),\n",
       " (',', 'MAG'),\n",
       " ('식이', 'SP'),\n",
       " ('섬유', 'NNG'),\n",
       " ('가', 'NNG'),\n",
       " ('풍', 'JKS'),\n",
       " ('부', 'NNG'),\n",
       " ('해적', 'XSN'),\n",
       " ('은', 'NNG'),\n",
       " ('양', 'JX'),\n",
       " ('으로', 'NNG'),\n",
       " ('도', 'JKB'),\n",
       " ('큰', 'JX'),\n",
       " ('포만감', 'NA'),\n",
       " ('을', 'NNG'),\n",
       " ('느', 'JKO'),\n",
       " ('<UNK>', 'VV'),\n",
       " ('채소', 'EC'),\n",
       " ('와', 'NNG'),\n",
       " ('달리', 'JKB'),\n",
       " ('채소', 'MAG'),\n",
       " ('칩', 'NNG'),\n",
       " ('은', 'NNG'),\n",
       " ('포만감', 'JX'),\n",
       " ('이', 'NNG'),\n",
       " ('쉽', 'JKS'),\n",
       " ('게', 'VA'),\n",
       " ('느', 'EC'),\n",
       " ('<UNK>', 'NA'),\n",
       " ('과잉', 'NA'),\n",
       " ('섭취', 'NNG'),\n",
       " ('해체', 'NNG'),\n",
       " ('중증', 'NNG'),\n",
       " ('가', 'NNG'),\n",
       " ('로이어', 'JKS'),\n",
       " ('질', 'NNG'),\n",
       " ('위', 'XSN'),\n",
       " ('<UNK>', 'NNG')]"
      ]
     },
     "execution_count": 15,
     "metadata": {},
     "output_type": "execute_result"
    }
   ],
   "source": [
    "analyze(long_text, model, method=\"beam\")"
   ]
  },
  {
   "cell_type": "code",
   "execution_count": 16,
   "metadata": {},
   "outputs": [
    {
     "data": {
      "text/plain": [
       "[('가공', 'NNG'),\n",
       " ('과정', 'NNG'),\n",
       " ('에서', 'JKB'),\n",
       " ('영양소', 'NNG'),\n",
       " ('가', 'JKS'),\n",
       " ('파괴', 'NNG'),\n",
       " ('되', 'XSV'),\n",
       " ('고', 'EC'),\n",
       " (',', 'SP'),\n",
       " ('과잉', 'NNG'),\n",
       " ('섭취', 'NNG'),\n",
       " ('위', 'NNG'),\n",
       " ('<UNK>', 'NR'),\n",
       " ('것', 'NNB'),\n",
       " ('도', 'JX'),\n",
       " ('문제', 'NNG'),\n",
       " ('다', 'JX'),\n",
       " ('.', 'SF'),\n",
       " ('채소', 'NNG'),\n",
       " ('속', 'NNG'),\n",
       " ('영양', 'NNG'),\n",
       " ('을', 'JKO'),\n",
       " ('섭취', 'NNG'),\n",
       " ('할', 'NA'),\n",
       " ('목적', 'NNG'),\n",
       " ('으로', 'JKB'),\n",
       " ('채소', 'NNG'),\n",
       " ('칩', 'NNG'),\n",
       " ('을', 'JKO'),\n",
       " ('먹', 'VV'),\n",
       " ('으면', 'EC'),\n",
       " ('기대', 'NNG'),\n",
       " ('하', 'XSV'),\n",
       " ('는', 'ETM'),\n",
       " ('효과', 'NNG'),\n",
       " ('를', 'JKO'),\n",
       " ('보', 'VV'),\n",
       " ('기', 'ETN'),\n",
       " ('어려', 'NA'),\n",
       " ('울', 'NA'),\n",
       " ('가능', 'NNG'),\n",
       " ('성', 'XSN'),\n",
       " ('이', 'JKS'),\n",
       " ('크', 'VA'),\n",
       " ('다', 'EF'),\n",
       " ('.', 'SF'),\n",
       " ('높', 'VA'),\n",
       " ('은', 'ETM'),\n",
       " ('온도', 'NNG'),\n",
       " ('에서', 'JKB'),\n",
       " ('튀기', 'VV'),\n",
       " ('면', 'EC'),\n",
       " ('채소', 'NNG'),\n",
       " ('에', 'JKB'),\n",
       " ('풍', 'NNG'),\n",
       " ('부', 'NA'),\n",
       " ('했', 'NA'),\n",
       " ('던', 'ETM'),\n",
       " ('비타민', 'NNG'),\n",
       " (',', 'SP'),\n",
       " ('식이', 'NNG'),\n",
       " ('섬유', 'NNG'),\n",
       " (',', 'SP'),\n",
       " ('철', 'NNG'),\n",
       " ('분', 'NNB'),\n",
       " (',', 'SP'),\n",
       " ('칼', 'NNG'),\n",
       " ('<UNK>', 'NNG'),\n",
       " ('이', 'JKS'),\n",
       " ('파괴', 'NNG'),\n",
       " ('된', 'NA'),\n",
       " ('다', 'EF'),\n",
       " ('.', 'SF'),\n",
       " ('안토시아닌', 'NNG'),\n",
       " ('같', 'VA'),\n",
       " ('은', 'ETM'),\n",
       " ('항산화', 'NNG'),\n",
       " ('성분', 'NNG'),\n",
       " ('이', 'JKS'),\n",
       " ('풍', 'NNG'),\n",
       " ('부', 'XSN'),\n",
       " ('한', 'MMN'),\n",
       " ('비트', 'NNG'),\n",
       " ('로', 'JKB'),\n",
       " ('만', 'JX'),\n",
       " ('든', 'JX'),\n",
       " ('비트', 'NNG'),\n",
       " ('칩', 'NNG'),\n",
       " ('에서', 'JKB'),\n",
       " ('항산화', 'NNG'),\n",
       " ('효과', 'NNG'),\n",
       " ('를', 'JKO'),\n",
       " (',', 'SP'),\n",
       " ('비타민', 'NNG'),\n",
       " ('<UNK>', 'NR'),\n",
       " ('근', 'NNB'),\n",
       " ('으로', 'JKB'),\n",
       " ('만', 'JX'),\n",
       " ('든', 'JX'),\n",
       " ('당근', 'NNG'),\n",
       " ('칩', 'NNG'),\n",
       " ('에서', 'JKB'),\n",
       " ('눈', 'NNG'),\n",
       " ('건강', 'NNG'),\n",
       " ('개선', 'NNG'),\n",
       " ('효과', 'NNG'),\n",
       " ('를', 'JKO'),\n",
       " ('기대', 'NNG'),\n",
       " ('할', 'NA'),\n",
       " ('수', 'NNB'),\n",
       " ('없', 'VA'),\n",
       " ('다는', 'ETM'),\n",
       " ('것', 'NNB'),\n",
       " ('이', 'VCP'),\n",
       " ('다', 'EF'),\n",
       " ('.', 'SF'),\n",
       " ('또한', 'MAG'),\n",
       " (',', 'SP'),\n",
       " ('식이', 'NNG'),\n",
       " ('섬유', 'NNG'),\n",
       " ('가', 'JKS'),\n",
       " ('풍', 'NNG'),\n",
       " ('부', 'XSN'),\n",
       " ('해적', 'NNG'),\n",
       " ('은', 'JX'),\n",
       " ('양', 'NNG'),\n",
       " ('으로', 'JKB'),\n",
       " ('도', 'JX'),\n",
       " ('큰', 'NA'),\n",
       " ('포만감', 'NNG'),\n",
       " ('을', 'JKO'),\n",
       " ('느', 'NA'),\n",
       " ('<UNK>', 'NA'),\n",
       " ('채소', 'NNG'),\n",
       " ('와', 'JKB'),\n",
       " ('달리', 'MAG'),\n",
       " ('채소', 'NNG'),\n",
       " ('칩', 'NNG'),\n",
       " ('은', 'JX'),\n",
       " ('포만감', 'NNG'),\n",
       " ('이', 'JKS'),\n",
       " ('쉽', 'VA'),\n",
       " ('게', 'EC'),\n",
       " ('느', 'NA'),\n",
       " ('<UNK>', 'NA'),\n",
       " ('과잉', 'NNG'),\n",
       " ('섭취', 'NNG'),\n",
       " ('해체', 'NNG'),\n",
       " ('중증', 'NNG'),\n",
       " ('가', 'JKS'),\n",
       " ('로이어', 'NNG'),\n",
       " ('질', 'XSN'),\n",
       " ('위', 'NNG'),\n",
       " ('<UNK>', 'NNG')]"
      ]
     },
     "execution_count": 16,
     "metadata": {},
     "output_type": "execute_result"
    }
   ],
   "source": [
    "analyze(long_text, model, method=\"viterbi\")"
   ]
  },
  {
   "cell_type": "code",
   "execution_count": 17,
   "metadata": {},
   "outputs": [
    {
     "name": "stdout",
     "output_type": "stream",
     "text": [
      "0.0004939070564277901\n"
     ]
    }
   ],
   "source": [
    "print(emit_probs['NNG'].get('저녁', 0))"
   ]
  },
  {
   "cell_type": "code",
   "execution_count": null,
   "metadata": {},
   "outputs": [],
   "source": []
  }
 ],
 "metadata": {
  "kernelspec": {
   "display_name": "Python 3",
   "language": "python",
   "name": "python3"
  },
  "language_info": {
   "codemirror_mode": {
    "name": "ipython",
    "version": 3
   },
   "file_extension": ".py",
   "mimetype": "text/x-python",
   "name": "python",
   "nbconvert_exporter": "python",
   "pygments_lexer": "ipython3",
   "version": "3.11.13"
  }
 },
 "nbformat": 4,
 "nbformat_minor": 2
}
