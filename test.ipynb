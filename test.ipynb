{
 "cells": [
  {
   "cell_type": "code",
   "execution_count": 12,
   "metadata": {},
   "outputs": [],
   "source": [
    "import json\n",
    "import pandas as pd\n",
    "\n",
    "from simple_postagger.analyzer import load_model, analyze\n"
   ]
  },
  {
   "cell_type": "code",
   "execution_count": 13,
   "metadata": {},
   "outputs": [],
   "source": [
    "model_path = \"data/NIKL_MP(v1.1)/hmm_model.pkl\"\n",
    "model = load_model(model_path)"
   ]
  },
  {
   "cell_type": "code",
   "execution_count": 21,
   "metadata": {},
   "outputs": [
    {
     "data": {
      "text/plain": [
       "[([('아버지', 'NNG'), ('가', 'JKS')], 5.289937722794798e-06),\n",
       " ([('방', 'NNG'), ('에', 'JKB')], 6.864873810023124e-06),\n",
       " ([('들어가', 'NA'), ('신', 'NA'), ('다', 'MAG')], 5.637067509220212e-13)]"
      ]
     },
     "execution_count": 21,
     "metadata": {},
     "output_type": "execute_result"
    }
   ],
   "source": [
    "analyze(\"아버지가 방에 들어가신다\", model, method=\"sentence_lattice\")"
   ]
  },
  {
   "cell_type": "code",
   "execution_count": 16,
   "metadata": {},
   "outputs": [
    {
     "data": {
      "text/plain": [
       "[([('나이키', 'NNP')], 1.2936973694748449e-06),\n",
       " ([('운동화', 'NNG')], 1.3545591972533057e-05)]"
      ]
     },
     "execution_count": 16,
     "metadata": {},
     "output_type": "execute_result"
    }
   ],
   "source": [
    "analyze(\"나이키 운동화\", model, method=\"sentence_lattice\")"
   ]
  },
  {
   "cell_type": "code",
   "execution_count": 17,
   "metadata": {},
   "outputs": [
    {
     "data": {
      "text/plain": [
       "[([('나', 'NP'), ('는', 'JX')], 0.00033830545048485776),\n",
       " ([('오늘', 'MAG')], 0.0009291985427416125),\n",
       " ([('저녁', 'NNG'), ('에', 'JKB')], 6.6555788767907115e-06),\n",
       " ([('치킨', 'NNG'), ('을', 'JKO')], 2.7287618605556326e-06),\n",
       " ([('먹', 'VV'), ('었', 'EP'), ('다', 'EF')], 1.0832879964273194e-06)]"
      ]
     },
     "execution_count": 17,
     "metadata": {},
     "output_type": "execute_result"
    }
   ],
   "source": [
    "analyze(\"나는 오늘 저녁에 치킨을 먹었다\", model, method=\"sentence_lattice\")"
   ]
  },
  {
   "cell_type": "code",
   "execution_count": 22,
   "metadata": {},
   "outputs": [
    {
     "data": {
      "text/plain": [
       "[([('오류', 'NNG'), ('보고', 'JKB'), ('는', 'JX')], 5.473601688382849e-11),\n",
       " ([('실행', 'NNG'), ('환경', 'NNG'), (',', 'SP')], 5.1452733515482204e-14),\n",
       " ([('에러', 'NNG'), ('메세지', 'NNG'), ('와', 'JKB'), ('함께', 'MAG')],\n",
       "  5.088234678419068e-18),\n",
       " ([('설명', 'NNG'), ('을', 'JKO')], 1.341255829764633e-05),\n",
       " ([('최대한', 'MAG'), ('상세히', 'MAG'), ('!^', 'UNK'), ('^', 'UNK')],\n",
       "  4.424137412757093e-43)]"
      ]
     },
     "execution_count": 22,
     "metadata": {},
     "output_type": "execute_result"
    }
   ],
   "source": [
    "\"\"\" 꼬꼬마 결과..\n",
    "[(오류, NNG),\n",
    " (보고, NNG),\n",
    " (는, JX),\n",
    " (실행, NNG),\n",
    " (환경, NNG),\n",
    " (,, SP),\n",
    " (에러, NNG),\n",
    " (메세지, NNG),\n",
    " (와, JKM),\n",
    " (함께, MAG),\n",
    " (설명, NNG),\n",
    " (을, JKO),\n",
    " (최대한, NNG),\n",
    " (상세히, MAG),\n",
    " (!, SF),\n",
    " (^^, EMO)]\n",
    "\"\"\"\n",
    "\n",
    "\n",
    "analyze(\"오류보고는 실행환경, 에러메세지와함께 설명을 최대한상세히!^^\", model, method=\"sentence_lattice\")"
   ]
  },
  {
   "cell_type": "code",
   "execution_count": 24,
   "metadata": {},
   "outputs": [
    {
     "data": {
      "text/plain": [
       "[([('채소', 'NNG'), ('로', 'JKB')], 1.3017035345744714e-06),\n",
       " ([('만', 'NR'), ('든', 'JX')], 7.767061810640884e-09),\n",
       " ([('음식', 'NNG'), ('이', 'VCP'), ('라면', 'EC')], 2.865536692259667e-09),\n",
       " ([('건강', 'NNG'), ('할', 'XSV')], 5.588588331489224e-10),\n",
       " ([('것', 'NNB'), ('이', 'VCP'), ('라는', 'ETM')], 5.377794445195573e-08),\n",
       " ([('통념', 'NNG'), ('이', 'JKS')], 2.707661209109301e-07),\n",
       " ([('있', 'VA'), ('다', 'EF'), ('.', 'SF')], 8.569078834430181e-05),\n",
       " ([('채소', 'NNG'), ('로', 'JKB')], 1.3017035345744714e-06),\n",
       " ([('만', 'NR'), ('든', 'JX')], 7.767061810640884e-09),\n",
       " ([('음식', 'NNG'), ('이라도', 'JX')], 9.818803916817332e-09),\n",
       " ([('조리', 'NNG')], 4.7409571903865695e-05),\n",
       " ([('방법', 'NNG'), ('에', 'JKB')], 1.8334236151159318e-05),\n",
       " ([('따라', 'MAG')], 1.0188580512517681e-06),\n",
       " ([('몸', 'NNG'), ('에', 'JKB')], 1.272513194053067e-05),\n",
       " ([('해', 'NNG'), ('로', 'JKB'), ('울', 'VV')], 1.0323925531642246e-10),\n",
       " ([('수', 'NNG')], 9.007818661734481e-05),\n",
       " ([('있', 'VA'), ('다', 'EF'), ('.', 'SF')], 8.569078834430181e-05),\n",
       " ([('채소', 'NNG')], 0.00011852392975966424),\n",
       " ([('칩', 'NNG'), ('이', 'JKS')], 3.868087441584715e-08),\n",
       " ([('그렇', 'VA'), ('다', 'EF'), ('.', 'SF')], 4.9233883549954325e-05)]"
      ]
     },
     "execution_count": 24,
     "metadata": {},
     "output_type": "execute_result"
    }
   ],
   "source": [
    "analyze(\"채소로 만든 음식이라면 건강할 것이라는 통념이 있다. 채소로 만든 음식이라도 조리 방법에 따라 몸에 해로울 수 있다. 채소 칩이 그렇다.\", model, method=\"sentence_lattice\")"
   ]
  },
  {
   "cell_type": "code",
   "execution_count": null,
   "metadata": {},
   "outputs": [],
   "source": []
  },
  {
   "cell_type": "code",
   "execution_count": null,
   "metadata": {},
   "outputs": [],
   "source": []
  },
  {
   "cell_type": "code",
   "execution_count": null,
   "metadata": {},
   "outputs": [],
   "source": []
  },
  {
   "cell_type": "code",
   "execution_count": null,
   "metadata": {},
   "outputs": [],
   "source": []
  },
  {
   "cell_type": "code",
   "execution_count": null,
   "metadata": {},
   "outputs": [],
   "source": []
  }
 ],
 "metadata": {
  "kernelspec": {
   "display_name": "Python 3",
   "language": "python",
   "name": "python3"
  },
  "language_info": {
   "codemirror_mode": {
    "name": "ipython",
    "version": 3
   },
   "file_extension": ".py",
   "mimetype": "text/x-python",
   "name": "python",
   "nbconvert_exporter": "python",
   "pygments_lexer": "ipython3",
   "version": "3.11.11"
  }
 },
 "nbformat": 4,
 "nbformat_minor": 2
}
